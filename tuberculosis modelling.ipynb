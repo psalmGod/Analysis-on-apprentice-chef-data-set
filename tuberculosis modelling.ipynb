{
 "cells": [
  {
   "cell_type": "code",
   "execution_count": 68,
   "id": "eaf62436",
   "metadata": {
    "scrolled": true
   },
   "outputs": [],
   "source": [
    "# importing critical libraries\n",
    "import pandas            as pd\n",
    "import matplotlib.pyplot as plt\n",
    "import seaborn           as sns\n",
    "import numpy as np\n",
    "\n",
    "\n",
    "# importing model types\n",
    "import sklearn.linear_model# linear models for you to enjoy\n",
    "from sklearn.neighbors import KNeighborsRegressor\n",
    "# importing ML tools\n",
    "from sklearn.model_selection import train_test_split\n",
    "from sklearn.preprocessing import StandardScaler # standardizing data\n",
    "import statsmodels.api as sm"
   ]
  },
  {
   "cell_type": "code",
   "execution_count": 69,
   "id": "40989b17",
   "metadata": {
    "scrolled": true
   },
   "outputs": [
    {
     "data": {
      "text/html": [
       "<div>\n",
       "<style scoped>\n",
       "    .dataframe tbody tr th:only-of-type {\n",
       "        vertical-align: middle;\n",
       "    }\n",
       "\n",
       "    .dataframe tbody tr th {\n",
       "        vertical-align: top;\n",
       "    }\n",
       "\n",
       "    .dataframe thead th {\n",
       "        text-align: right;\n",
       "    }\n",
       "</style>\n",
       "<table border=\"1\" class=\"dataframe\">\n",
       "  <thead>\n",
       "    <tr style=\"text-align: right;\">\n",
       "      <th></th>\n",
       "      <th>tuberculosis_data_1</th>\n",
       "      <th>Social_connectedness</th>\n",
       "      <th>Refugee_Population</th>\n",
       "      <th>school_enrolment_data</th>\n",
       "      <th>Poverty_index</th>\n",
       "    </tr>\n",
       "  </thead>\n",
       "  <tbody>\n",
       "    <tr>\n",
       "      <th>0</th>\n",
       "      <td>326</td>\n",
       "      <td>64.48</td>\n",
       "      <td>8463</td>\n",
       "      <td>0.88228</td>\n",
       "      <td>23.2</td>\n",
       "    </tr>\n",
       "    <tr>\n",
       "      <th>1</th>\n",
       "      <td>324</td>\n",
       "      <td>64.55</td>\n",
       "      <td>10127</td>\n",
       "      <td>0.88811</td>\n",
       "      <td>23.4</td>\n",
       "    </tr>\n",
       "    <tr>\n",
       "      <th>2</th>\n",
       "      <td>322</td>\n",
       "      <td>64.54</td>\n",
       "      <td>9129</td>\n",
       "      <td>0.89630</td>\n",
       "      <td>22.5</td>\n",
       "    </tr>\n",
       "    <tr>\n",
       "      <th>3</th>\n",
       "      <td>321</td>\n",
       "      <td>64.52</td>\n",
       "      <td>8744</td>\n",
       "      <td>0.90850</td>\n",
       "      <td>22.6</td>\n",
       "    </tr>\n",
       "    <tr>\n",
       "      <th>4</th>\n",
       "      <td>321</td>\n",
       "      <td>64.62</td>\n",
       "      <td>8803</td>\n",
       "      <td>0.93277</td>\n",
       "      <td>21.4</td>\n",
       "    </tr>\n",
       "    <tr>\n",
       "      <th>5</th>\n",
       "      <td>323</td>\n",
       "      <td>62.33</td>\n",
       "      <td>3151</td>\n",
       "      <td>0.97416</td>\n",
       "      <td>18.8</td>\n",
       "    </tr>\n",
       "    <tr>\n",
       "      <th>6</th>\n",
       "      <td>326</td>\n",
       "      <td>59.99</td>\n",
       "      <td>1688</td>\n",
       "      <td>0.97484</td>\n",
       "      <td>16.3</td>\n",
       "    </tr>\n",
       "    <tr>\n",
       "      <th>7</th>\n",
       "      <td>330</td>\n",
       "      <td>59.83</td>\n",
       "      <td>1237</td>\n",
       "      <td>0.98539</td>\n",
       "      <td>12.5</td>\n",
       "    </tr>\n",
       "  </tbody>\n",
       "</table>\n",
       "</div>"
      ],
      "text/plain": [
       "   tuberculosis_data_1  Social_connectedness  Refugee_Population  \\\n",
       "0                  326                 64.48                8463   \n",
       "1                  324                 64.55               10127   \n",
       "2                  322                 64.54                9129   \n",
       "3                  321                 64.52                8744   \n",
       "4                  321                 64.62                8803   \n",
       "5                  323                 62.33                3151   \n",
       "6                  326                 59.99                1688   \n",
       "7                  330                 59.83                1237   \n",
       "\n",
       "   school_enrolment_data  Poverty_index  \n",
       "0                0.88228           23.2  \n",
       "1                0.88811           23.4  \n",
       "2                0.89630           22.5  \n",
       "3                0.90850           22.6  \n",
       "4                0.93277           21.4  \n",
       "5                0.97416           18.8  \n",
       "6                0.97484           16.3  \n",
       "7                0.98539           12.5  "
      ]
     },
     "execution_count": 69,
     "metadata": {},
     "output_type": "execute_result"
    }
   ],
   "source": [
    "# preparing data for modelling\n",
    "train_file= \"TB train1.csv\"\n",
    "train_data=pd.read_csv(file)\n",
    "train_data=pd.DataFrame(data)\n",
    "train_data\n"
   ]
  },
  {
   "cell_type": "code",
   "execution_count": 70,
   "id": "e2c42f68",
   "metadata": {
    "scrolled": true
   },
   "outputs": [],
   "source": [
    "#splilliting data into dependent and independent variables \n",
    "train_y=train_data[\"tuberculosis_data_1\"]\n",
    "train_x=train_data.drop(\"tuberculosis_data_1\",axis=1)"
   ]
  },
  {
   "cell_type": "code",
   "execution_count": 71,
   "id": "786a6b9e",
   "metadata": {
    "scrolled": true
   },
   "outputs": [
    {
     "data": {
      "text/plain": [
       "0    326\n",
       "1    324\n",
       "2    322\n",
       "3    321\n",
       "4    321\n",
       "5    323\n",
       "6    326\n",
       "7    330\n",
       "Name: tuberculosis_data_1, dtype: int64"
      ]
     },
     "execution_count": 71,
     "metadata": {},
     "output_type": "execute_result"
    }
   ],
   "source": [
    "train_y"
   ]
  },
  {
   "cell_type": "code",
   "execution_count": 72,
   "id": "58310ac7",
   "metadata": {
    "scrolled": true
   },
   "outputs": [
    {
     "data": {
      "text/html": [
       "<div>\n",
       "<style scoped>\n",
       "    .dataframe tbody tr th:only-of-type {\n",
       "        vertical-align: middle;\n",
       "    }\n",
       "\n",
       "    .dataframe tbody tr th {\n",
       "        vertical-align: top;\n",
       "    }\n",
       "\n",
       "    .dataframe thead th {\n",
       "        text-align: right;\n",
       "    }\n",
       "</style>\n",
       "<table border=\"1\" class=\"dataframe\">\n",
       "  <thead>\n",
       "    <tr style=\"text-align: right;\">\n",
       "      <th></th>\n",
       "      <th>Social_connectedness</th>\n",
       "      <th>Refugee_Population</th>\n",
       "      <th>school_enrolment_data</th>\n",
       "      <th>Poverty_index</th>\n",
       "    </tr>\n",
       "  </thead>\n",
       "  <tbody>\n",
       "    <tr>\n",
       "      <th>0</th>\n",
       "      <td>64.48</td>\n",
       "      <td>8463</td>\n",
       "      <td>0.88228</td>\n",
       "      <td>23.2</td>\n",
       "    </tr>\n",
       "    <tr>\n",
       "      <th>1</th>\n",
       "      <td>64.55</td>\n",
       "      <td>10127</td>\n",
       "      <td>0.88811</td>\n",
       "      <td>23.4</td>\n",
       "    </tr>\n",
       "    <tr>\n",
       "      <th>2</th>\n",
       "      <td>64.54</td>\n",
       "      <td>9129</td>\n",
       "      <td>0.89630</td>\n",
       "      <td>22.5</td>\n",
       "    </tr>\n",
       "    <tr>\n",
       "      <th>3</th>\n",
       "      <td>64.52</td>\n",
       "      <td>8744</td>\n",
       "      <td>0.90850</td>\n",
       "      <td>22.6</td>\n",
       "    </tr>\n",
       "    <tr>\n",
       "      <th>4</th>\n",
       "      <td>64.62</td>\n",
       "      <td>8803</td>\n",
       "      <td>0.93277</td>\n",
       "      <td>21.4</td>\n",
       "    </tr>\n",
       "    <tr>\n",
       "      <th>5</th>\n",
       "      <td>62.33</td>\n",
       "      <td>3151</td>\n",
       "      <td>0.97416</td>\n",
       "      <td>18.8</td>\n",
       "    </tr>\n",
       "    <tr>\n",
       "      <th>6</th>\n",
       "      <td>59.99</td>\n",
       "      <td>1688</td>\n",
       "      <td>0.97484</td>\n",
       "      <td>16.3</td>\n",
       "    </tr>\n",
       "    <tr>\n",
       "      <th>7</th>\n",
       "      <td>59.83</td>\n",
       "      <td>1237</td>\n",
       "      <td>0.98539</td>\n",
       "      <td>12.5</td>\n",
       "    </tr>\n",
       "  </tbody>\n",
       "</table>\n",
       "</div>"
      ],
      "text/plain": [
       "   Social_connectedness  Refugee_Population  school_enrolment_data  \\\n",
       "0                 64.48                8463                0.88228   \n",
       "1                 64.55               10127                0.88811   \n",
       "2                 64.54                9129                0.89630   \n",
       "3                 64.52                8744                0.90850   \n",
       "4                 64.62                8803                0.93277   \n",
       "5                 62.33                3151                0.97416   \n",
       "6                 59.99                1688                0.97484   \n",
       "7                 59.83                1237                0.98539   \n",
       "\n",
       "   Poverty_index  \n",
       "0           23.2  \n",
       "1           23.4  \n",
       "2           22.5  \n",
       "3           22.6  \n",
       "4           21.4  \n",
       "5           18.8  \n",
       "6           16.3  \n",
       "7           12.5  "
      ]
     },
     "execution_count": 72,
     "metadata": {},
     "output_type": "execute_result"
    }
   ],
   "source": [
    "train_x"
   ]
  },
  {
   "cell_type": "code",
   "execution_count": 73,
   "id": "c6b55047",
   "metadata": {
    "scrolled": true
   },
   "outputs": [],
   "source": [
    "model=sklearn.linear_model.LinearRegression() # creating a regression machine learning model"
   ]
  },
  {
   "cell_type": "code",
   "execution_count": 74,
   "id": "6f0aea94",
   "metadata": {
    "scrolled": true
   },
   "outputs": [
    {
     "data": {
      "text/plain": [
       "LinearRegression()"
      ]
     },
     "execution_count": 74,
     "metadata": {},
     "output_type": "execute_result"
    }
   ],
   "source": [
    "model"
   ]
  },
  {
   "cell_type": "code",
   "execution_count": 75,
   "id": "4dd5438a",
   "metadata": {
    "scrolled": true
   },
   "outputs": [],
   "source": [
    "model=model.fit(train_x,train_y) # fitting data into model"
   ]
  },
  {
   "cell_type": "code",
   "execution_count": 76,
   "id": "6f70dfb0",
   "metadata": {
    "scrolled": true
   },
   "outputs": [],
   "source": [
    "score=model.score(train_x,train_y)"
   ]
  },
  {
   "cell_type": "code",
   "execution_count": 77,
   "id": "5b6afc7f",
   "metadata": {
    "scrolled": true
   },
   "outputs": [
    {
     "data": {
      "text/html": [
       "<div>\n",
       "<style scoped>\n",
       "    .dataframe tbody tr th:only-of-type {\n",
       "        vertical-align: middle;\n",
       "    }\n",
       "\n",
       "    .dataframe tbody tr th {\n",
       "        vertical-align: top;\n",
       "    }\n",
       "\n",
       "    .dataframe thead th {\n",
       "        text-align: right;\n",
       "    }\n",
       "</style>\n",
       "<table border=\"1\" class=\"dataframe\">\n",
       "  <thead>\n",
       "    <tr style=\"text-align: right;\">\n",
       "      <th></th>\n",
       "      <th>tuberculosis_data_1</th>\n",
       "      <th>Social_connectedness</th>\n",
       "      <th>Refugee_Population</th>\n",
       "      <th>school_enrolment_data</th>\n",
       "      <th>Poverty_ndex</th>\n",
       "    </tr>\n",
       "  </thead>\n",
       "  <tbody>\n",
       "    <tr>\n",
       "      <th>0</th>\n",
       "      <td>?</td>\n",
       "      <td>64.48</td>\n",
       "      <td>8463</td>\n",
       "      <td>0.88228</td>\n",
       "      <td>21.2</td>\n",
       "    </tr>\n",
       "    <tr>\n",
       "      <th>1</th>\n",
       "      <td>?</td>\n",
       "      <td>74.55</td>\n",
       "      <td>10127</td>\n",
       "      <td>0.88811</td>\n",
       "      <td>22.4</td>\n",
       "    </tr>\n",
       "    <tr>\n",
       "      <th>2</th>\n",
       "      <td>?</td>\n",
       "      <td>61.54</td>\n",
       "      <td>9129</td>\n",
       "      <td>0.79637</td>\n",
       "      <td>23.5</td>\n",
       "    </tr>\n",
       "    <tr>\n",
       "      <th>3</th>\n",
       "      <td>?</td>\n",
       "      <td>62.52</td>\n",
       "      <td>7744</td>\n",
       "      <td>0.98852</td>\n",
       "      <td>22.8</td>\n",
       "    </tr>\n",
       "    <tr>\n",
       "      <th>4</th>\n",
       "      <td>?</td>\n",
       "      <td>65.62</td>\n",
       "      <td>8103</td>\n",
       "      <td>0.93277</td>\n",
       "      <td>21.4</td>\n",
       "    </tr>\n",
       "    <tr>\n",
       "      <th>5</th>\n",
       "      <td>?</td>\n",
       "      <td>62.33</td>\n",
       "      <td>5151</td>\n",
       "      <td>0.97416</td>\n",
       "      <td>18.8</td>\n",
       "    </tr>\n",
       "    <tr>\n",
       "      <th>6</th>\n",
       "      <td>?</td>\n",
       "      <td>60.99</td>\n",
       "      <td>2688</td>\n",
       "      <td>0.97484</td>\n",
       "      <td>16.3</td>\n",
       "    </tr>\n",
       "    <tr>\n",
       "      <th>7</th>\n",
       "      <td>?</td>\n",
       "      <td>59.83</td>\n",
       "      <td>1237</td>\n",
       "      <td>0.98539</td>\n",
       "      <td>12.5</td>\n",
       "    </tr>\n",
       "  </tbody>\n",
       "</table>\n",
       "</div>"
      ],
      "text/plain": [
       "  tuberculosis_data_1  Social_connectedness  Refugee_Population  \\\n",
       "0                   ?                 64.48                8463   \n",
       "1                   ?                 74.55               10127   \n",
       "2                   ?                 61.54                9129   \n",
       "3                   ?                 62.52                7744   \n",
       "4                   ?                 65.62                8103   \n",
       "5                   ?                 62.33                5151   \n",
       "6                   ?                 60.99                2688   \n",
       "7                   ?                 59.83                1237   \n",
       "\n",
       "   school_enrolment_data  Poverty_ndex  \n",
       "0                0.88228          21.2  \n",
       "1                0.88811          22.4  \n",
       "2                0.79637          23.5  \n",
       "3                0.98852          22.8  \n",
       "4                0.93277          21.4  \n",
       "5                0.97416          18.8  \n",
       "6                0.97484          16.3  \n",
       "7                0.98539          12.5  "
      ]
     },
     "execution_count": 77,
     "metadata": {},
     "output_type": "execute_result"
    }
   ],
   "source": [
    "# preparing data for prediction\n",
    "test_file=\"TB test.csv\"\n",
    "test_data=pd.read_csv(test_file)\n",
    "test_data=pd.DataFrame(test_data)\n",
    "test_data"
   ]
  },
  {
   "cell_type": "code",
   "execution_count": 78,
   "id": "56ecfdd6",
   "metadata": {
    "scrolled": true
   },
   "outputs": [],
   "source": [
    "test_x=test_data.drop(\"tuberculosis_data_1\",axis=1)"
   ]
  },
  {
   "cell_type": "code",
   "execution_count": 79,
   "id": "a8a65208",
   "metadata": {
    "scrolled": true
   },
   "outputs": [
    {
     "data": {
      "text/plain": [
       "array([327.49635584, 325.36754895, 334.94642368, 312.1915171 ,\n",
       "       321.19211238, 320.91640544, 325.66200665, 329.81013171])"
      ]
     },
     "execution_count": 79,
     "metadata": {},
     "output_type": "execute_result"
    }
   ],
   "source": [
    "model_pred=model.predict(test_x)\n",
    "model_pred"
   ]
  },
  {
   "cell_type": "code",
   "execution_count": 80,
   "id": "d629b487",
   "metadata": {
    "scrolled": true
   },
   "outputs": [
    {
     "data": {
      "text/html": [
       "<div>\n",
       "<style scoped>\n",
       "    .dataframe tbody tr th:only-of-type {\n",
       "        vertical-align: middle;\n",
       "    }\n",
       "\n",
       "    .dataframe tbody tr th {\n",
       "        vertical-align: top;\n",
       "    }\n",
       "\n",
       "    .dataframe thead th {\n",
       "        text-align: right;\n",
       "    }\n",
       "</style>\n",
       "<table border=\"1\" class=\"dataframe\">\n",
       "  <thead>\n",
       "    <tr style=\"text-align: right;\">\n",
       "      <th></th>\n",
       "      <th>predictions</th>\n",
       "    </tr>\n",
       "    <tr>\n",
       "      <th>tuberculosis_data_1</th>\n",
       "      <th></th>\n",
       "    </tr>\n",
       "  </thead>\n",
       "  <tbody>\n",
       "    <tr>\n",
       "      <th>326</th>\n",
       "      <td>327.496356</td>\n",
       "    </tr>\n",
       "    <tr>\n",
       "      <th>324</th>\n",
       "      <td>325.367549</td>\n",
       "    </tr>\n",
       "    <tr>\n",
       "      <th>322</th>\n",
       "      <td>334.946424</td>\n",
       "    </tr>\n",
       "    <tr>\n",
       "      <th>321</th>\n",
       "      <td>312.191517</td>\n",
       "    </tr>\n",
       "    <tr>\n",
       "      <th>321</th>\n",
       "      <td>321.192112</td>\n",
       "    </tr>\n",
       "    <tr>\n",
       "      <th>323</th>\n",
       "      <td>320.916405</td>\n",
       "    </tr>\n",
       "    <tr>\n",
       "      <th>326</th>\n",
       "      <td>325.662007</td>\n",
       "    </tr>\n",
       "    <tr>\n",
       "      <th>330</th>\n",
       "      <td>329.810132</td>\n",
       "    </tr>\n",
       "  </tbody>\n",
       "</table>\n",
       "</div>"
      ],
      "text/plain": [
       "                     predictions\n",
       "tuberculosis_data_1             \n",
       "326                   327.496356\n",
       "324                   325.367549\n",
       "322                   334.946424\n",
       "321                   312.191517\n",
       "321                   321.192112\n",
       "323                   320.916405\n",
       "326                   325.662007\n",
       "330                   329.810132"
      ]
     },
     "execution_count": 80,
     "metadata": {},
     "output_type": "execute_result"
    }
   ],
   "source": [
    "# making model predictions and comparing actual values to predicted values\n",
    "prediction=pd.DataFrame(model_pred,train_y,columns=[\"predictions\"])\n",
    "prediction\n"
   ]
  },
  {
   "cell_type": "markdown",
   "id": "96c4fd2f",
   "metadata": {},
   "source": [
    " The data  above contains our actual values on the first column and the model predicted values on the second column which we can see are very close to the actual values meaning our model is a very good fit for our data, hence we can introduce more data into these model to increase its accuracy in prediction furthermore.\n",
    "  NOTE: the accuracy of these model is approx 90% as seen below"
   ]
  },
  {
   "cell_type": "code",
   "execution_count": 81,
   "id": "778edba1",
   "metadata": {
    "scrolled": true
   },
   "outputs": [
    {
     "name": "stdout",
     "output_type": "stream",
     "text": [
      "model accuracy=  90.0 %\n"
     ]
    }
   ],
   "source": [
    "# checking model accuracy\n",
    "print(\"model accuracy= \" , score.round(2)*100, \"%\" )"
   ]
  },
  {
   "cell_type": "code",
   "execution_count": null,
   "id": "39bc0d17",
   "metadata": {
    "scrolled": true
   },
   "outputs": [],
   "source": []
  },
  {
   "cell_type": "code",
   "execution_count": null,
   "id": "5ff61796",
   "metadata": {
    "scrolled": true
   },
   "outputs": [],
   "source": []
  }
 ],
 "metadata": {
  "kernelspec": {
   "display_name": "Python 3 (ipykernel)",
   "language": "python",
   "name": "python3"
  },
  "language_info": {
   "codemirror_mode": {
    "name": "ipython",
    "version": 3
   },
   "file_extension": ".py",
   "mimetype": "text/x-python",
   "name": "python",
   "nbconvert_exporter": "python",
   "pygments_lexer": "ipython3",
   "version": "3.9.7"
  }
 },
 "nbformat": 4,
 "nbformat_minor": 5
}
